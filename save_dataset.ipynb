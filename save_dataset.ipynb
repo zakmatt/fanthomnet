{
 "cells": [
  {
   "cell_type": "code",
   "execution_count": 1,
   "id": "32ae1b7e-227b-478d-9f00-9f9e510929cb",
   "metadata": {},
   "outputs": [],
   "source": [
    "import os\n",
    "import shutil\n",
    "import wandb\n",
    "\n",
    "import params"
   ]
  },
  {
   "cell_type": "code",
   "execution_count": 2,
   "id": "9b5277ed-e54e-4061-bfc3-fd58fa235f0d",
   "metadata": {},
   "outputs": [],
   "source": [
    "data_path = \"./data/dataset\"\n",
    "if not os.path.isdir(data_path):\n",
    "    os.mkdir(data_path)"
   ]
  },
  {
   "cell_type": "code",
   "execution_count": 7,
   "id": "215e290b-4cc2-4b96-87be-b9a845295320",
   "metadata": {},
   "outputs": [
    {
     "data": {
      "text/plain": [
       "'./data/dataset/old2new_cat.json'"
      ]
     },
     "execution_count": 7,
     "metadata": {},
     "output_type": "execute_result"
    }
   ],
   "source": [
    "shutil.copytree(\"./data/images\", data_path+\"/images\")\n",
    "shutil.copy(\"./data/val_data.json\", data_path)\n",
    "shutil.copy(\"./data/train_data.json\", data_path)\n",
    "shutil.copy(\"./new2old_cat.json\", data_path)\n",
    "shutil.copy(\"./old2new_cat.json\", data_path)"
   ]
  },
  {
   "cell_type": "code",
   "execution_count": 3,
   "id": "c654fc3c-24ce-4514-b562-b2422e5db55a",
   "metadata": {},
   "outputs": [
    {
     "name": "stderr",
     "output_type": "stream",
     "text": [
      "\u001b[34m\u001b[1mwandb\u001b[0m: Currently logged in as: \u001b[33mmatt-zak\u001b[0m. Use \u001b[1m`wandb login --relogin`\u001b[0m to force relogin\n"
     ]
    },
    {
     "data": {
      "text/html": [
       "Tracking run with wandb version 0.16.2"
      ],
      "text/plain": [
       "<IPython.core.display.HTML object>"
      ]
     },
     "metadata": {},
     "output_type": "display_data"
    },
    {
     "data": {
      "text/html": [
       "Run data is saved locally in <code>/Users/matthewzak/projects/fanthomnet/wandb/run-20240127_162857-bv52fpo0</code>"
      ],
      "text/plain": [
       "<IPython.core.display.HTML object>"
      ]
     },
     "metadata": {},
     "output_type": "display_data"
    },
    {
     "data": {
      "text/html": [
       "Syncing run <strong><a href='https://wandb.ai/matt-zak/fanthom_challenge/runs/bv52fpo0' target=\"_blank\">glamorous-butterfly-20</a></strong> to <a href='https://wandb.ai/matt-zak/fanthom_challenge' target=\"_blank\">Weights & Biases</a> (<a href='https://wandb.me/run' target=\"_blank\">docs</a>)<br/>"
      ],
      "text/plain": [
       "<IPython.core.display.HTML object>"
      ]
     },
     "metadata": {},
     "output_type": "display_data"
    },
    {
     "data": {
      "text/html": [
       " View project at <a href='https://wandb.ai/matt-zak/fanthom_challenge' target=\"_blank\">https://wandb.ai/matt-zak/fanthom_challenge</a>"
      ],
      "text/plain": [
       "<IPython.core.display.HTML object>"
      ]
     },
     "metadata": {},
     "output_type": "display_data"
    },
    {
     "data": {
      "text/html": [
       " View run at <a href='https://wandb.ai/matt-zak/fanthom_challenge/runs/bv52fpo0' target=\"_blank\">https://wandb.ai/matt-zak/fanthom_challenge/runs/bv52fpo0</a>"
      ],
      "text/plain": [
       "<IPython.core.display.HTML object>"
      ]
     },
     "metadata": {},
     "output_type": "display_data"
    }
   ],
   "source": [
    "run = wandb.init(project=params.WANDB_PROJECT, entity=params.ENTITY, job_type='processed_data')"
   ]
  },
  {
   "cell_type": "code",
   "execution_count": 4,
   "id": "c015e2e6-3578-402e-96ac-eb55722324d9",
   "metadata": {},
   "outputs": [],
   "source": [
    "processed_data_at = wandb.Artifact(params.FINAL_DATA_AT, type='dataset')"
   ]
  },
  {
   "cell_type": "code",
   "execution_count": 5,
   "id": "717c6cc6-1cf6-44a4-9e69-7824fa86cd98",
   "metadata": {},
   "outputs": [
    {
     "name": "stderr",
     "output_type": "stream",
     "text": [
      "\u001b[34m\u001b[1mwandb\u001b[0m: Adding directory to artifact (./data/dataset)... Done. 66.3s\n"
     ]
    }
   ],
   "source": [
    "processed_data_at.add_dir(\"./data/dataset/\", \"training_dataset\")"
   ]
  },
  {
   "cell_type": "code",
   "execution_count": 6,
   "id": "d45bce40-c811-4f98-a30e-6e790b80616e",
   "metadata": {},
   "outputs": [
    {
     "data": {
      "text/plain": [
       "<Artifact fanthom_final_data>"
      ]
     },
     "execution_count": 6,
     "metadata": {},
     "output_type": "execute_result"
    }
   ],
   "source": [
    "run.log_artifact(processed_data_at)"
   ]
  },
  {
   "cell_type": "code",
   "execution_count": 7,
   "id": "606df8cf-7417-4ada-afea-ef0b25132e4a",
   "metadata": {},
   "outputs": [
    {
     "data": {
      "text/html": [
       " View run <strong style=\"color:#cdcd00\">glamorous-butterfly-20</strong> at: <a href='https://wandb.ai/matt-zak/fanthom_challenge/runs/bv52fpo0' target=\"_blank\">https://wandb.ai/matt-zak/fanthom_challenge/runs/bv52fpo0</a><br/> View job at <a href='https://wandb.ai/matt-zak/fanthom_challenge/jobs/QXJ0aWZhY3RDb2xsZWN0aW9uOjEzNDMzMjQzMQ==/version_details/v0' target=\"_blank\">https://wandb.ai/matt-zak/fanthom_challenge/jobs/QXJ0aWZhY3RDb2xsZWN0aW9uOjEzNDMzMjQzMQ==/version_details/v0</a><br/>Synced 6 W&B file(s), 0 media file(s), 16700 artifact file(s) and 0 other file(s)"
      ],
      "text/plain": [
       "<IPython.core.display.HTML object>"
      ]
     },
     "metadata": {},
     "output_type": "display_data"
    },
    {
     "data": {
      "text/html": [
       "Find logs at: <code>./wandb/run-20240127_162857-bv52fpo0/logs</code>"
      ],
      "text/plain": [
       "<IPython.core.display.HTML object>"
      ]
     },
     "metadata": {},
     "output_type": "display_data"
    }
   ],
   "source": [
    "run.finish()"
   ]
  },
  {
   "cell_type": "code",
   "execution_count": null,
   "id": "ba314439-90b0-49df-a475-417e14feca5f",
   "metadata": {},
   "outputs": [],
   "source": []
  }
 ],
 "metadata": {
  "kernelspec": {
   "display_name": "Python 3 (ipykernel)",
   "language": "python",
   "name": "python3"
  },
  "language_info": {
   "codemirror_mode": {
    "name": "ipython",
    "version": 3
   },
   "file_extension": ".py",
   "mimetype": "text/x-python",
   "name": "python",
   "nbconvert_exporter": "python",
   "pygments_lexer": "ipython3",
   "version": "3.11.7"
  }
 },
 "nbformat": 4,
 "nbformat_minor": 5
}

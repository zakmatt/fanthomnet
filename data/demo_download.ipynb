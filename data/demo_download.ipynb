{
 "cells": [
  {
   "cell_type": "markdown",
   "metadata": {},
   "source": [
    "# Download FathomNet-FGVC 2023 images\n",
    "## March 24, 2023\n",
    "\n",
    "This notebook downloads images for the [FathomNet 2023 Competition](https://www.kaggle.com/competitions/fathomnet-out-of-sample-detection/overview). It assumes that the dataset has been downloaded from Kaggle and retains the original directory structure:\n",
    "\n",
    "```\n",
    "../fathomnet-out-of-sample-detection\n",
    "    |\n",
    "    |____multilabel_classification\n",
    "    |  |____train.csv\n",
    "    |____object_detection\n",
    "    |  |____eval.json\n",
    "    |  |____train.json\n",
    "    |____category_key.csv\n",
    "    |____demo_download.ipynb\n",
    "    |____download_images.py\n",
    "    |____requirements.txt\n",
    "    |____sample_submission.csv\n",
    "```"
   ]
  },
  {
   "cell_type": "markdown",
   "metadata": {},
   "source": [
    "### Install requirements\n",
    "This installs the requirements in the current python3 environment."
   ]
  },
  {
   "cell_type": "code",
   "execution_count": null,
   "metadata": {},
   "outputs": [],
   "source": [
    "%pip install -r requirements.txt"
   ]
  },
  {
   "cell_type": "markdown",
   "metadata": {},
   "source": [
    "### Start download\n",
    "\n",
    "First download the training data. The script `download_images.py` will by default create a new directory called `images` where all the downloaded files will live. If you want the images to live someplace else on your local machine, specify an output directory using the `--outpath` flag. This may take upwards of an hour depending on your internet connection. "
   ]
  },
  {
   "cell_type": "code",
   "execution_count": 6,
   "metadata": {},
   "outputs": [
    {
     "name": "stdout",
     "output_type": "stream",
     "text": [
      "INFO:root:opening object_detection/train.json\n",
      "INFO:root:retrieving 5950 images\n",
      "| |                        #                       | 5949 Elapsed Time: 0:00:02\n",
      "INFO:root:Downloaded 1 new images to /Users/matthewzak/projects/fanthomnet/data/images\n"
     ]
    }
   ],
   "source": [
    "!python download_images.py object_detection/train.json "
   ]
  },
  {
   "cell_type": "markdown",
   "metadata": {},
   "source": [
    "Now download the evaluation data. Again, if you want to save the images to a different directory, please specify the location with the `--outpath` flag. "
   ]
  },
  {
   "cell_type": "code",
   "execution_count": 7,
   "metadata": {},
   "outputs": [
    {
     "name": "stdout",
     "output_type": "stream",
     "text": [
      "INFO:root:opening object_detection/eval.json\n",
      "INFO:root:retrieving 10744 images\n",
      "| |                                          #    | 10743 Elapsed Time: 9:17:11\n",
      "INFO:root:Downloaded 10726 new images to /Users/matthewzak/projects/fanthomnet/data/images\n"
     ]
    }
   ],
   "source": [
    "!python download_images.py object_detection/eval.json"
   ]
  },
  {
   "cell_type": "code",
   "execution_count": null,
   "metadata": {},
   "outputs": [],
   "source": []
  }
 ],
 "metadata": {
  "kernelspec": {
   "display_name": "Python 3 (ipykernel)",
   "language": "python",
   "name": "python3"
  },
  "language_info": {
   "codemirror_mode": {
    "name": "ipython",
    "version": 3
   },
   "file_extension": ".py",
   "mimetype": "text/x-python",
   "name": "python",
   "nbconvert_exporter": "python",
   "pygments_lexer": "ipython3",
   "version": "3.9.16"
  }
 },
 "nbformat": 4,
 "nbformat_minor": 4
}

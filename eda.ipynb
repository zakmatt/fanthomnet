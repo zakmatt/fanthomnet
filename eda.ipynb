{
 "cells": [
  {
   "cell_type": "code",
   "execution_count": 1,
   "id": "e3e116de-4ef0-44b1-ae25-623ebb1d6f7d",
   "metadata": {},
   "outputs": [],
   "source": [
    "import json\n",
    "import glob\n",
    "import matplotlib.pyplot as plt\n",
    "import os\n",
    "import pandas as pd\n",
    "import seaborn as sns\n",
    "import shutil\n",
    "import wandb\n",
    "\n",
    "from collections import Counter, defaultdict\n",
    "from pathlib import Path\n",
    "from sklearn.model_selection import train_test_split\n",
    "from tqdm import tqdm\n",
    "\n",
    "import params"
   ]
  },
  {
   "cell_type": "code",
   "execution_count": 2,
   "id": "b1f88567-ce14-4793-a1d8-4888d099d630",
   "metadata": {},
   "outputs": [],
   "source": [
    "DATA_PATH = Path('data/')\n",
    "TRAIN_DATA = DATA_PATH / 'multilabel_classification' / 'train.csv'\n",
    "CATEGORY_KEYS = DATA_PATH / 'category_key.csv'\n",
    "TRAIN_ANNOTATIONS = DATA_PATH / 'object_detection' / 'train.json'\n",
    "EVAL_ANNOTATIONS = DATA_PATH / 'object_detection' / 'eval.json'\n",
    "IMAGES_PATH = DATA_PATH / 'images'"
   ]
  },
  {
   "cell_type": "code",
   "execution_count": 4,
   "id": "5e8edd84-717e-4eb5-830c-89b7c652e9ff",
   "metadata": {},
   "outputs": [],
   "source": [
    "with open(TRAIN_ANNOTATIONS, 'r') as f:\n",
    "    train_data = json.load(f)"
   ]
  },
  {
   "cell_type": "code",
   "execution_count": 5,
   "id": "7c930c49-ef29-4d44-9a6a-f16466953644",
   "metadata": {},
   "outputs": [],
   "source": [
    "# First, I'll change the classes to take only those that appear"
   ]
  },
  {
   "cell_type": "code",
   "execution_count": 6,
   "id": "3f0c1cba-14ac-46b7-b276-fa06a864e53a",
   "metadata": {},
   "outputs": [],
   "source": [
    "unique_categories = list(sorted(set(\n",
    "    int(anno['category_id']) for anno in train_data['annotations']\n",
    ")))"
   ]
  },
  {
   "cell_type": "code",
   "execution_count": 7,
   "id": "62a62599-22f9-44b6-852d-3d2e2ef5351a",
   "metadata": {},
   "outputs": [
    {
     "name": "stdout",
     "output_type": "stream",
     "text": [
      "We observe 133 categories\n"
     ]
    }
   ],
   "source": [
    "print(f'We observe {len(unique_categories)} categories')"
   ]
  },
  {
   "cell_type": "code",
   "execution_count": 8,
   "id": "39c7d341-2df3-42fd-84b6-b40108d48db7",
   "metadata": {},
   "outputs": [
    {
     "data": {
      "text/plain": [
       "[{'id': 1, 'name': 'Actiniaria', 'supercategory': 'Anemone'},\n",
       " {'id': 2, 'name': 'Actinernus', 'supercategory': 'Anemone'},\n",
       " {'id': 3, 'name': 'Actiniidae', 'supercategory': 'Anemone'},\n",
       " {'id': 4, 'name': 'Actinoscyphia', 'supercategory': 'Anemone'},\n",
       " {'id': 5, 'name': 'Bolocera', 'supercategory': 'Anemone'}]"
      ]
     },
     "execution_count": 8,
     "metadata": {},
     "output_type": "execute_result"
    }
   ],
   "source": [
    "categories = train_data['categories']\n",
    "categories[:5]"
   ]
  },
  {
   "cell_type": "code",
   "execution_count": 9,
   "id": "56764882-6604-434d-a54c-8864a95fbcb1",
   "metadata": {},
   "outputs": [],
   "source": [
    "id2cat = {cat['id']:cat for cat in categories}"
   ]
  },
  {
   "cell_type": "code",
   "execution_count": 10,
   "id": "dbb2948e-fd4b-49fa-b853-ab35df433a35",
   "metadata": {},
   "outputs": [
    {
     "data": {
      "text/plain": [
       "[1, 3, 7, 8, 9, 10, 11, 12, 13, 14]"
      ]
     },
     "execution_count": 10,
     "metadata": {},
     "output_type": "execute_result"
    }
   ],
   "source": [
    "unique_categories[:10]"
   ]
  },
  {
   "cell_type": "code",
   "execution_count": 11,
   "id": "d755ad6f-ef84-4022-8ccf-1d0ddb218fce",
   "metadata": {},
   "outputs": [],
   "source": [
    "old2new_cat = {\n",
    "    old_cat: new_cat for (old_cat, new_cat) in  zip(unique_categories, range(len(unique_categories)))\n",
    "}\n",
    "new2old_cat = {\n",
    "    new_cat: old_cat for (old_cat, new_cat) in old2new_cat.items()\n",
    "}"
   ]
  },
  {
   "cell_type": "code",
   "execution_count": 12,
   "id": "e5f8dd45-1ed0-4297-8c83-013d9d853d93",
   "metadata": {},
   "outputs": [],
   "source": [
    "with open('old2new_cat.json', 'w') as f:\n",
    "    json.dump(old2new_cat, f)\n",
    "\n",
    "with open('new2old_cat.json', 'w') as f:\n",
    "    json.dump(new2old_cat, f)"
   ]
  },
  {
   "cell_type": "code",
   "execution_count": 13,
   "id": "85386588-7d37-4ad4-9971-18326c0cd169",
   "metadata": {},
   "outputs": [],
   "source": [
    "new_categories = []\n",
    "for category in unique_categories:\n",
    "    old_category_dict = id2cat[category]\n",
    "    new_category = old2new_cat[category]\n",
    "    old_category_dict['id'] = new_category\n",
    "    new_categories.append(old_category_dict)"
   ]
  },
  {
   "cell_type": "code",
   "execution_count": 14,
   "id": "6bbedeac-01b2-48fd-996b-a7473bcc1822",
   "metadata": {},
   "outputs": [
    {
     "data": {
      "text/plain": [
       "[{'id': 0, 'name': 'Actiniaria', 'supercategory': 'Anemone'},\n",
       " {'id': 1, 'name': 'Actiniidae', 'supercategory': 'Anemone'},\n",
       " {'id': 2, 'name': 'Hormathiidae', 'supercategory': 'Anemone'},\n",
       " {'id': 3, 'name': 'Isosicyonis', 'supercategory': 'Anemone'},\n",
       " {'id': 4, 'name': 'Liponema brevicorne', 'supercategory': 'Anemone'}]"
      ]
     },
     "execution_count": 14,
     "metadata": {},
     "output_type": "execute_result"
    }
   ],
   "source": [
    "new_categories[:5]"
   ]
  },
  {
   "cell_type": "code",
   "execution_count": 15,
   "id": "3302584e-7842-4b43-8c8d-dc64c9876401",
   "metadata": {},
   "outputs": [],
   "source": [
    "processed_annos = []\n",
    "for anno in train_data['annotations']:\n",
    "    category_id = anno['category_id']\n",
    "    new_anno = anno.copy()\n",
    "    new_anno['category_id'] = old2new_cat[category_id]\n",
    "    processed_annos.append(new_anno)"
   ]
  },
  {
   "cell_type": "code",
   "execution_count": 16,
   "id": "920815bf-da69-401f-adb3-a6c38320d2e4",
   "metadata": {},
   "outputs": [],
   "source": [
    "# In the initial phase I will randomly split images to train and val\n",
    "# and only make sure all labels in the validation set are present\n",
    "# in teh training\n",
    "\n",
    "images_data = train_data['images']\n",
    "all_labels_covered = False\n",
    "while not all_labels_covered:\n",
    "    train_images, val_images = train_test_split(images_data, test_size=0.2)\n",
    "    train_image_ids = set(image_data['id'] for image_data in train_images)\n",
    "    val_image_ids = set(image_data['id'] for image_data in val_images)\n",
    "    train_annos = set()\n",
    "    val_annos = set()\n",
    "    for anno in processed_annos:\n",
    "        if anno['image_id'] in val_image_ids:\n",
    "            val_annos.add(anno['category_id'])\n",
    "        else:\n",
    "            train_annos.add(anno['category_id'])\n",
    "    \n",
    "    if len(val_annos - train_annos) == 0:\n",
    "        all_labels_covered = True"
   ]
  },
  {
   "cell_type": "code",
   "execution_count": 17,
   "id": "294e75b3-197c-485f-8e3a-8a286cf27159",
   "metadata": {},
   "outputs": [
    {
     "name": "stdout",
     "output_type": "stream",
     "text": [
      "Train set: 4760 images and 133 unique categories\n",
      "Val set: 1190 images and 81 unique categories\n"
     ]
    }
   ],
   "source": [
    "print(f'Train set: {len(train_images)} images and {len(train_annos)} unique categories')\n",
    "print(f'Val set: {len(val_images)} images and {len(val_annos)} unique categories')"
   ]
  },
  {
   "cell_type": "code",
   "execution_count": 18,
   "id": "b8d2b6a4-8a94-422f-aa58-c519dfde13d6",
   "metadata": {},
   "outputs": [],
   "source": [
    "train_annos = []\n",
    "val_annos = []\n",
    "for anno in processed_annos:\n",
    "    if anno['image_id'] in val_image_ids:\n",
    "        val_annos.append(anno)\n",
    "    else:\n",
    "        train_annos.append(anno)"
   ]
  },
  {
   "cell_type": "code",
   "execution_count": 19,
   "id": "98f7407e-1cab-4ac3-93cd-e3b847fa744d",
   "metadata": {},
   "outputs": [],
   "source": [
    "# We see that some categories are not present in the validation set."
   ]
  },
  {
   "cell_type": "code",
   "execution_count": 20,
   "id": "db8c5894-c088-42f8-b906-b87cb8488273",
   "metadata": {},
   "outputs": [],
   "source": [
    "cat_images = defaultdict(set)\n",
    "for anno in processed_annos:\n",
    "    category_id = anno['category_id']\n",
    "    image_id = anno['image_id']\n",
    "    cat_images[category_id].add(image_id)\n",
    "cat_image_counts = {int(cat): len(unique_images) for cat, unique_images in cat_images.items()}"
   ]
  },
  {
   "cell_type": "code",
   "execution_count": 21,
   "id": "bf8b43a2-d214-43c9-b4ae-007ae1da365b",
   "metadata": {},
   "outputs": [
    {
     "data": {
      "image/png": "[encoded data removed]",
      "text/plain": [
       "<Figure size 1000x400 with 1 Axes>"
      ]
     },
     "metadata": {},
     "output_type": "display_data"
    }
   ],
   "source": [
    "# Let's find out if we have labels with one occurence only\n",
    "sns.set_style(\"whitegrid\")\n",
    "\n",
    "fig, ax = plt.subplots(figsize=(10,4))\n",
    "\n",
    "sns.barplot(x=list(cat_image_counts.keys()), y=list(cat_image_counts.values()), ax=ax)\n",
    "\n",
    "plt.title(\"Categories and nr of images they appear in\", fontsize=16)\n",
    "plt.xlabel(\"label id\", fontsize=14)\n",
    "plt.xticks(rotation=-45)\n",
    "plt.ylabel(\"nr of images\", fontsize=14)\n",
    "plt.show()"
   ]
  },
  {
   "cell_type": "code",
   "execution_count": 22,
   "id": "2ae0e1a8-52c3-4900-af1f-b509fe7344d8",
   "metadata": {},
   "outputs": [],
   "source": [
    "# Now let's find number of categories per image occurrence"
   ]
  },
  {
   "cell_type": "code",
   "execution_count": 23,
   "id": "312b57f6-18ca-4928-9c78-a0c0a8137a46",
   "metadata": {},
   "outputs": [
    {
     "data": {
      "image/png": "[encoded data removed]",
      "text/plain": [
       "<Figure size 1000x400 with 1 Axes>"
      ]
     },
     "metadata": {},
     "output_type": "display_data"
    }
   ],
   "source": [
    "image_counts = Counter(cat_image_counts.values())\n",
    "\n",
    "# Let's find out if we have labels with one occurence only\n",
    "sns.set_style(\"whitegrid\")\n",
    "\n",
    "fig, ax = plt.subplots(figsize=(10,4))\n",
    "\n",
    "sns.barplot(x=list(image_counts.keys()), y=list(image_counts.values()), ax=ax)\n",
    "\n",
    "plt.title(\"Image counts per category\", fontsize=16)\n",
    "plt.xlabel(\"images count\", fontsize=14)\n",
    "plt.xticks(rotation=-45)\n",
    "plt.ylabel(\"nr of categories\", fontsize=14)\n",
    "plt.show()"
   ]
  },
  {
   "cell_type": "markdown",
   "id": "4cef5246-6ada-452c-bc45-d92a9de34a10",
   "metadata": {},
   "source": [
    "# What we did here seems a bit complicated but it precisely show what we needed to see ;)\n",
    "The x axis is the number of images occured per category and the y axis\n",
    "is the amount of unique categories. We see that there's 25. categories which appear only in\n",
    "one image. Then 20 that appear in 2.  \n",
    "We probably need to find a cutting point for labels we will not be able to generalize on. In general,\n",
    "a few hundered images with a label are required to properly generalize and detect the object. This can be\n",
    "reduced if we have a pretrained model which can detect features and predict on them. I will first train \n",
    "a model on all labels and later remove those that appear less than 96 times.\n",
    "\n",
    "This is something we will handle in the future."
   ]
  },
  {
   "cell_type": "code",
   "execution_count": 24,
   "id": "5d7d32a8-330a-4c15-8d75-1a49341340a6",
   "metadata": {},
   "outputs": [
    {
     "data": {
      "text/plain": [
       "dict_keys(['info', 'images', 'licenses', 'annotations', 'categories'])"
      ]
     },
     "execution_count": 24,
     "metadata": {},
     "output_type": "execute_result"
    }
   ],
   "source": [
    "train_data.keys()"
   ]
  },
  {
   "cell_type": "code",
   "execution_count": 25,
   "id": "21f3924b-a8e7-4995-8662-b1c9e0804db9",
   "metadata": {},
   "outputs": [],
   "source": [
    "train_set = dict(\n",
    "    info=train_data['info'],\n",
    "    images=train_images,\n",
    "    licenses=train_data['licenses'],\n",
    "    annotations=train_annos,\n",
    "    categories=new_categories\n",
    ")\n",
    "val_set = dict(\n",
    "    info=train_data['info'],\n",
    "    images=val_images,\n",
    "    licenses=train_data['licenses'],\n",
    "    annotations=val_annos,\n",
    "    categories=new_categories\n",
    ")"
   ]
  },
  {
   "cell_type": "code",
   "execution_count": 28,
   "id": "dd814a3c-9e00-45fe-9150-9d1d0b99abde",
   "metadata": {},
   "outputs": [],
   "source": [
    "with open(DATA_PATH / 'train_data.json', 'w') as f:\n",
    "    json.dump(train_set, f)\n",
    "with open(DATA_PATH / 'val_data.json', 'w') as f:\n",
    "    json.dump(val_set, f)"
   ]
  },
  {
   "cell_type": "code",
   "execution_count": 29,
   "id": "98289bf8-ec2d-4324-8e57-1cc244f8466d",
   "metadata": {},
   "outputs": [],
   "source": [
    "train_images_path = DATA_PATH / 'train'\n",
    "if not os.path.exists(train_images_path):\n",
    "    os.mkdir(train_images_path)\n",
    "    print(f'Created directory {train_images_path}')\n",
    "val_images_path = DATA_PATH / 'val'\n",
    "if not os.path.exists(val_images_path):\n",
    "    os.mkdir(val_images_path)\n",
    "    print(f'Created directory {val_images_path}')"
   ]
  },
  {
   "cell_type": "code",
   "execution_count": 30,
   "id": "00096f5e-ba73-4b3d-a292-9f32c3a81d93",
   "metadata": {},
   "outputs": [
    {
     "data": {
      "text/plain": [
       "PosixPath('data/val/fb12b95f-bb2d-4b9c-853d-01d42e290957.png')"
      ]
     },
     "execution_count": 30,
     "metadata": {},
     "output_type": "execute_result"
    }
   ],
   "source": [
    "file_name = val_images[0]['file_name']\n",
    "val_images_path / file_name"
   ]
  },
  {
   "cell_type": "code",
   "execution_count": 45,
   "id": "d15a137a-c791-4579-b871-005438332913",
   "metadata": {},
   "outputs": [
    {
     "name": "stderr",
     "output_type": "stream",
     "text": [
      "100%|████████████████████████████████████████████████████████████████████████████████████████████████████████████████████████████████████████████████████████████████████████████| 4760/4760 [00:10<00:00, 452.48it/s]\n",
      "100%|████████████████████████████████████████████████████████████████████████████████████████████████████████████████████████████████████████████████████████████████████████████| 1190/1190 [00:02<00:00, 438.01it/s]\n"
     ]
    }
   ],
   "source": [
    "for image_data in tqdm(train_set['images']):\n",
    "    file_name = image_data['file_name']\n",
    "    shutil.copy(IMAGES_PATH / file_name, train_images_path / file_name)\n",
    "for image_data in tqdm(val_set['images']):\n",
    "    file_name = image_data['file_name']\n",
    "    shutil.copy(IMAGES_PATH / file_name, val_images_path / file_name)"
   ]
  },
  {
   "cell_type": "code",
   "execution_count": 163,
   "id": "5780f54c-a98d-499d-aa6b-7ec69d353e33",
   "metadata": {},
   "outputs": [
    {
     "data": {
      "application/vnd.jupyter.widget-view+json": {
       "model_id": "ea1b09874748484fb8ff2a38656344bf",
       "version_major": 2,
       "version_minor": 0
      },
      "text/plain": [
       "VBox(children=(Label(value='Waiting for wandb.init()...\\r'), FloatProgress(value=0.01675262916669453, max=1.0)…"
      ]
     },
     "metadata": {},
     "output_type": "display_data"
    },
    {
     "data": {
      "text/html": [
       "Tracking run with wandb version 0.14.2"
      ],
      "text/plain": [
       "<IPython.core.display.HTML object>"
      ]
     },
     "metadata": {},
     "output_type": "display_data"
    },
    {
     "data": {
      "text/html": [
       "Run data is saved locally in <code>/Users/matthewzak/projects/fanthomnet/experiments/wandb/run-20230415_171208-nbbpw7mk</code>"
      ],
      "text/plain": [
       "<IPython.core.display.HTML object>"
      ]
     },
     "metadata": {},
     "output_type": "display_data"
    },
    {
     "data": {
      "text/html": [
       "Syncing run <strong><a href='https://wandb.ai/matt-zak/fanthom_challenge/runs/nbbpw7mk' target=\"_blank\">polished-cherry-8</a></strong> to <a href='https://wandb.ai/matt-zak/fanthom_challenge' target=\"_blank\">Weights & Biases</a> (<a href='https://wandb.me/run' target=\"_blank\">docs</a>)<br/>"
      ],
      "text/plain": [
       "<IPython.core.display.HTML object>"
      ]
     },
     "metadata": {},
     "output_type": "display_data"
    },
    {
     "data": {
      "text/html": [
       " View project at <a href='https://wandb.ai/matt-zak/fanthom_challenge' target=\"_blank\">https://wandb.ai/matt-zak/fanthom_challenge</a>"
      ],
      "text/plain": [
       "<IPython.core.display.HTML object>"
      ]
     },
     "metadata": {},
     "output_type": "display_data"
    },
    {
     "data": {
      "text/html": [
       " View run at <a href='https://wandb.ai/matt-zak/fanthom_challenge/runs/nbbpw7mk' target=\"_blank\">https://wandb.ai/matt-zak/fanthom_challenge/runs/nbbpw7mk</a>"
      ],
      "text/plain": [
       "<IPython.core.display.HTML object>"
      ]
     },
     "metadata": {},
     "output_type": "display_data"
    }
   ],
   "source": [
    "run = wandb.init(project=params.WANDB_PROJECT, entity=params.ENTITY, job_type='data_split')"
   ]
  },
  {
   "cell_type": "code",
   "execution_count": 164,
   "id": "80798011-fed1-447c-af06-f03033a7b7cd",
   "metadata": {},
   "outputs": [
    {
     "name": "stderr",
     "output_type": "stream",
     "text": [
      "\u001b[34m\u001b[1mwandb\u001b[0m: Downloading large artifact fanthom_data_raw:latest, 16047.49MB. 11920 files... \n",
      "\u001b[34m\u001b[1mwandb\u001b[0m:   11920 of 11920 files downloaded.  \n",
      "Done. 0:0:6.9\n"
     ]
    }
   ],
   "source": [
    "raw_data_at = run.use_artifact(f'{params.RAW_DATA_AT}:latest')\n",
    "path = Path(raw_data_at.download())"
   ]
  },
  {
   "cell_type": "code",
   "execution_count": 165,
   "id": "82cd9417-99c1-4aff-9095-5adcb2ce90c4",
   "metadata": {},
   "outputs": [
    {
     "name": "stderr",
     "output_type": "stream",
     "text": [
      "\u001b[34m\u001b[1mwandb\u001b[0m: Downloading large artifact fanthom_data_raw:latest, 16047.49MB. 11920 files... \n",
      "\u001b[34m\u001b[1mwandb\u001b[0m:   11920 of 11920 files downloaded.  \n",
      "Done. 0:0:6.7\n"
     ]
    }
   ],
   "source": [
    "original_table = raw_data_at.get('eda_table')"
   ]
  },
  {
   "cell_type": "code",
   "execution_count": 146,
   "id": "c4c32113-fb61-47b3-8194-a53332619de3",
   "metadata": {},
   "outputs": [],
   "source": [
    "train_df = pd.DataFrame([train_img['file_name'].split('.')[0] for train_img in train_images], columns=['file_name'])\n",
    "train_df['stage'] = 'train'\n",
    "val_df = pd.DataFrame([val_img['file_name'].split('.')[0] for val_img in val_images], columns=['file_name'])\n",
    "val_df['stage'] = 'val'"
   ]
  },
  {
   "cell_type": "code",
   "execution_count": 147,
   "id": "49c38941-022d-4b4e-af19-bb5a7185141b",
   "metadata": {},
   "outputs": [],
   "source": [
    "staged_data = pd.concat([train_df, val_df])\n",
    "staged_data.to_csv(DATA_PATH / 'split_data.csv', index=False)"
   ]
  },
  {
   "cell_type": "code",
   "execution_count": 166,
   "id": "2339a984-9f31-4a2f-a5ba-e77b7d1408ba",
   "metadata": {},
   "outputs": [
    {
     "data": {
      "text/html": [
       "<div>\n",
       "<style scoped>\n",
       "    .dataframe tbody tr th:only-of-type {\n",
       "        vertical-align: middle;\n",
       "    }\n",
       "\n",
       "    .dataframe tbody tr th {\n",
       "        vertical-align: top;\n",
       "    }\n",
       "\n",
       "    .dataframe thead th {\n",
       "        text-align: right;\n",
       "    }\n",
       "</style>\n",
       "<table border=\"1\" class=\"dataframe\">\n",
       "  <thead>\n",
       "    <tr style=\"text-align: right;\">\n",
       "      <th></th>\n",
       "      <th>file_name</th>\n",
       "      <th>stage</th>\n",
       "    </tr>\n",
       "  </thead>\n",
       "  <tbody>\n",
       "    <tr>\n",
       "      <th>999</th>\n",
       "      <td>3b6f01ae-5bde-434d-9b06-79b269421ed6</td>\n",
       "      <td>train</td>\n",
       "    </tr>\n",
       "  </tbody>\n",
       "</table>\n",
       "</div>"
      ],
      "text/plain": [
       "                                file_name  stage\n",
       "999  3b6f01ae-5bde-434d-9b06-79b269421ed6  train"
      ]
     },
     "execution_count": 166,
     "metadata": {},
     "output_type": "execute_result"
    }
   ],
   "source": [
    "staged_data[staged_data.file_name==original_table.get_column('file_name')[0]]"
   ]
  },
  {
   "cell_type": "code",
   "execution_count": 167,
   "id": "69e431e3-d47a-4f0b-b12f-ad8c2655d854",
   "metadata": {},
   "outputs": [],
   "source": [
    "processed_data_at = wandb.Artifact(params.PROCESSED_DATA_AT, type='split_data')"
   ]
  },
  {
   "cell_type": "code",
   "execution_count": 168,
   "id": "12ad8426-ea75-46c0-b170-aed3ef7e9995",
   "metadata": {},
   "outputs": [
    {
     "data": {
      "text/plain": [
       "ArtifactManifestEntry(path='split_data.csv', digest='KZ9oXuMnnKBATlpHB+J52A==', ref=None, birth_artifact_id=None, size=253486, extra={}, local_path='/Users/matthewzak/Library/Application Support/wandb/artifacts/staging/tmpsvu427u5')"
      ]
     },
     "execution_count": 168,
     "metadata": {},
     "output_type": "execute_result"
    }
   ],
   "source": [
    "processed_data_at.add_file(DATA_PATH / 'split_data.csv')"
   ]
  },
  {
   "cell_type": "code",
   "execution_count": 169,
   "id": "9c5bc211-91e0-4828-a0cc-a743289e62f5",
   "metadata": {},
   "outputs": [],
   "source": [
    "table = wandb.Table(dataframe=staged_data)"
   ]
  },
  {
   "cell_type": "code",
   "execution_count": 170,
   "id": "d9fb08d4-d16a-4420-bc93-706bd4b76eef",
   "metadata": {},
   "outputs": [],
   "source": [
    "joined_table = wandb.JoinedTable(original_table, table, 'file_name')"
   ]
  },
  {
   "cell_type": "code",
   "execution_count": 171,
   "id": "30ca04bb-2b9c-4050-8121-ec211ed7e46f",
   "metadata": {},
   "outputs": [
    {
     "data": {
      "text/plain": [
       "ArtifactManifestEntry(path='eda_table_data_split.joined-table.json', digest='LXntIoOTyO+hPHUj04JEGw==', ref=None, birth_artifact_id=None, size=123, extra={}, local_path='/Users/matthewzak/Library/Application Support/wandb/artifacts/staging/tmpirvtxhq6')"
      ]
     },
     "execution_count": 171,
     "metadata": {},
     "output_type": "execute_result"
    }
   ],
   "source": [
    "processed_data_at.add(joined_table, 'eda_table_data_split')"
   ]
  },
  {
   "cell_type": "code",
   "execution_count": 172,
   "id": "1cf3fb36-a045-4306-8a07-619fbdb2b48f",
   "metadata": {},
   "outputs": [
    {
     "data": {
      "text/plain": [
       "<wandb.sdk.wandb_artifacts.Artifact at 0x34245f790>"
      ]
     },
     "execution_count": 172,
     "metadata": {},
     "output_type": "execute_result"
    }
   ],
   "source": [
    "run.log_artifact(processed_data_at)"
   ]
  },
  {
   "cell_type": "code",
   "execution_count": 173,
   "id": "b3459209-e22f-485a-801c-d3937aeb6604",
   "metadata": {},
   "outputs": [
    {
     "data": {
      "text/html": [
       "Waiting for W&B process to finish... <strong style=\"color:green\">(success).</strong>"
      ],
      "text/plain": [
       "<IPython.core.display.HTML object>"
      ]
     },
     "metadata": {},
     "output_type": "display_data"
    },
    {
     "data": {
      "text/html": [
       " View run <strong style=\"color:#cdcd00\">polished-cherry-8</strong> at: <a href='https://wandb.ai/matt-zak/fanthom_challenge/runs/nbbpw7mk' target=\"_blank\">https://wandb.ai/matt-zak/fanthom_challenge/runs/nbbpw7mk</a><br/>Synced 6 W&B file(s), 0 media file(s), 3 artifact file(s) and 0 other file(s)"
      ],
      "text/plain": [
       "<IPython.core.display.HTML object>"
      ]
     },
     "metadata": {},
     "output_type": "display_data"
    },
    {
     "data": {
      "text/html": [
       "Find logs at: <code>./wandb/run-20230415_171208-nbbpw7mk/logs</code>"
      ],
      "text/plain": [
       "<IPython.core.display.HTML object>"
      ]
     },
     "metadata": {},
     "output_type": "display_data"
    }
   ],
   "source": [
    "run.finish()"
   ]
  },
  {
   "cell_type": "code",
   "execution_count": null,
   "id": "b6a2b1a5-98d9-4086-86b0-ceb7465ada0d",
   "metadata": {},
   "outputs": [],
   "source": []
  }
 ],
 "metadata": {
  "kernelspec": {
   "display_name": "Python 3 (ipykernel)",
   "language": "python",
   "name": "python3"
  },
  "language_info": {
   "codemirror_mode": {
    "name": "ipython",
    "version": 3
   },
   "file_extension": ".py",
   "mimetype": "text/x-python",
   "name": "python",
   "nbconvert_exporter": "python",
   "pygments_lexer": "ipython3",
   "version": "3.11.7"
  }
 },
 "nbformat": 4,
 "nbformat_minor": 5
}
